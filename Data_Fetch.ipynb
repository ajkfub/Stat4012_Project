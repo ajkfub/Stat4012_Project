{
 "cells": [
  {
   "cell_type": "code",
   "execution_count": 1,
   "id": "f5a54baa",
   "metadata": {},
   "outputs": [],
   "source": [
    "import pandas as pd\n",
    "from binance.client import Client\n",
    "import matplotlib.pyplot as plt\n",
    "import matplotlib.dates as mdates\n",
    "import matplotlib.pyplot as plt\n",
    "import matplotlib.dates as mdates\n",
    "import numpy as np\n",
    "import datetime as dt\n",
    "from tqdm import tqdm\n",
    "import requests\n",
    "import json\n",
    "from datetime import datetime, date\n",
    "from pybit.unified_trading import HTTP"
   ]
  },
  {
   "cell_type": "code",
   "execution_count": 2,
   "id": "7a0d29dc",
   "metadata": {},
   "outputs": [],
   "source": [
    "BASKET = [\n",
    "    \"ETH\",\n",
    "    \"BNB\",\n",
    "    \"SOL\",\n",
    "    \"AVAX\",\n",
    "    \"MATIC\",\n",
    "    \"LUNA\",\n",
    "    \"TRX\",\n",
    "    \"DOGE\",\n",
    "    \"XRP\",\n",
    "    \"LINK\",\n",
    "    \"ADA\",\n",
    "    \"LTC\",\n",
    "    \"BTC\",\n",
    "]"
   ]
  },
  {
   "cell_type": "code",
   "execution_count": 6,
   "id": "16f019d7",
   "metadata": {},
   "outputs": [],
   "source": [
    "BASKET.sort()"
   ]
  },
  {
   "cell_type": "markdown",
   "id": "c796d904",
   "metadata": {},
   "source": [
    "<hr>"
   ]
  },
  {
   "cell_type": "markdown",
   "id": "e69f0755",
   "metadata": {},
   "source": [
    "## Market data"
   ]
  },
  {
   "cell_type": "code",
   "execution_count": 3,
   "id": "d94a22f3",
   "metadata": {},
   "outputs": [
    {
     "name": "stderr",
     "output_type": "stream",
     "text": [
      "100%|███████████████████████████████████████| 1156/1156 [01:44<00:00, 11.04it/s]\n",
      "100%|███████████████████████████████████████| 1156/1156 [01:33<00:00, 12.35it/s]\n",
      "100%|███████████████████████████████████████| 1156/1156 [01:31<00:00, 12.65it/s]\n",
      "100%|███████████████████████████████████████| 1156/1156 [01:31<00:00, 12.69it/s]\n",
      "100%|███████████████████████████████████████| 1156/1156 [01:33<00:00, 12.34it/s]\n",
      "100%|███████████████████████████████████████| 1156/1156 [01:14<00:00, 15.44it/s]\n",
      "100%|███████████████████████████████████████| 1156/1156 [01:29<00:00, 12.97it/s]\n",
      "100%|███████████████████████████████████████| 1156/1156 [01:32<00:00, 12.49it/s]\n",
      "100%|███████████████████████████████████████| 1156/1156 [01:35<00:00, 12.16it/s]\n",
      "100%|███████████████████████████████████████| 1156/1156 [01:49<00:00, 10.58it/s]\n",
      "100%|███████████████████████████████████████| 1156/1156 [01:44<00:00, 11.07it/s]\n",
      "100%|███████████████████████████████████████| 1156/1156 [01:43<00:00, 11.15it/s]\n",
      "100%|███████████████████████████████████████| 1156/1156 [01:42<00:00, 11.28it/s]\n"
     ]
    }
   ],
   "source": [
    "startDT = datetime(2021, 1, 1, 0, 0, 0)\n",
    "endDT = datetime(2024, 3, 1, 0, 0, 0)\n",
    "date_range = pd.date_range(startDT, endDT, freq=\"1d\")\n",
    "session = HTTP()\n",
    "\n",
    "url = \"https://api-testnet.bybit.com/v5/market/kline\"\n",
    "\n",
    "market_data = {}\n",
    "\n",
    "col_dict = {\n",
    "    0: \"startTime\",\n",
    "    1: \"openPrice\",\n",
    "    2: \"highPrice\",\n",
    "    3: \"lowPrice\",\n",
    "    4: \"closePrice\",\n",
    "    5: \"volume\",\n",
    "    6: \"turnover\",\n",
    "}\n",
    "\n",
    "\n",
    "for coin in BASKET:\n",
    "    res_df = pd.DataFrame()\n",
    "    for d in tqdm(date_range):\n",
    "\n",
    "        try:\n",
    "            startTime = int(d.timestamp()) * 1000\n",
    "            endTime = int((d + pd.offsets.DateOffset(1)).timestamp()) * 1000\n",
    "\n",
    "            data = session.get_kline(\n",
    "                category=\"inverse\", symbol=f\"{coin}USDT\", interval=15, start=startTime, end=endTime\n",
    "            ).get(\"result\")\n",
    "            \n",
    "            df = pd.DataFrame(data)[\"list\"].apply(pd.Series)\n",
    "            df = df.rename(col_dict, axis=1)\n",
    "            df[\"datetime\"] = pd.to_datetime(df[\"startTime\"], unit=\"ms\")\n",
    "            df = df.sort_values(\"datetime\")\n",
    "\n",
    "            res_df = pd.concat([res_df, df])\n",
    "\n",
    "        except:\n",
    "            pass\n",
    "\n",
    "    res_df.to_csv(f\"Bybit_{coin}_market_data.csv\")"
   ]
  },
  {
   "cell_type": "markdown",
   "id": "a8026ead",
   "metadata": {},
   "source": [
    "<hr>"
   ]
  },
  {
   "cell_type": "markdown",
   "id": "a42948b9",
   "metadata": {},
   "source": [
    "### Funding Rate"
   ]
  },
  {
   "cell_type": "code",
   "execution_count": 4,
   "id": "54b6c16d",
   "metadata": {
    "scrolled": true
   },
   "outputs": [
    {
     "name": "stderr",
     "output_type": "stream",
     "text": [
      "100%|█████████████████████████████████████████| 232/232 [00:23<00:00,  9.75it/s]\n",
      "100%|█████████████████████████████████████████| 232/232 [00:25<00:00,  9.24it/s]\n",
      "100%|█████████████████████████████████████████| 232/232 [00:24<00:00,  9.53it/s]\n",
      "100%|█████████████████████████████████████████| 232/232 [00:26<00:00,  8.87it/s]\n",
      "100%|█████████████████████████████████████████| 232/232 [00:24<00:00,  9.50it/s]\n",
      "100%|█████████████████████████████████████████| 232/232 [00:24<00:00,  9.35it/s]\n",
      "100%|█████████████████████████████████████████| 232/232 [00:25<00:00,  9.18it/s]\n",
      "100%|█████████████████████████████████████████| 232/232 [00:26<00:00,  8.84it/s]\n",
      "100%|█████████████████████████████████████████| 232/232 [00:24<00:00,  9.41it/s]\n",
      "100%|█████████████████████████████████████████| 232/232 [00:25<00:00,  9.23it/s]\n",
      "100%|█████████████████████████████████████████| 232/232 [00:25<00:00,  9.16it/s]\n",
      "100%|█████████████████████████████████████████| 232/232 [00:25<00:00,  9.12it/s]\n",
      "100%|█████████████████████████████████████████| 232/232 [00:26<00:00,  8.79it/s]\n"
     ]
    }
   ],
   "source": [
    "startDT=datetime(2021, 1, 1, 0, 0, 0)\n",
    "endDT=datetime(2024, 3, 1, 0, 0, 0)\n",
    "date_range = pd.date_range(startDT, endDT, freq=\"5d\")\n",
    "\n",
    "url = \"https://api-testnet.bybit.com/v5/market/funding/history\"\n",
    "\n",
    "for coin in BASKET:\n",
    "    \n",
    "    res_df = pd.DataFrame()\n",
    "    for d in tqdm(date_range):\n",
    "        \n",
    "        try:\n",
    "            startTime = int(d.timestamp()) * 1000\n",
    "            endTime=int((d + pd.offsets.DateOffset(5)).timestamp()) * 1000\n",
    "\n",
    "            payload = {\n",
    "                \"category\": \"inverse\",\n",
    "                \"symbol\": f\"{coin}USDT\",\n",
    "                \"limit\": 200,\n",
    "                \"startTime\": startTime,\n",
    "                \"endTime\": endTime,\n",
    "            }\n",
    "\n",
    "            response = requests.request(\n",
    "                \"GET\",\n",
    "                url,\n",
    "                params=payload,\n",
    "            )\n",
    "\n",
    "            data = json.loads(response.text)\n",
    "\n",
    "            df = pd.DataFrame(data[\"result\"][\"list\"])\n",
    "            df[\"datetime\"] = pd.to_datetime(df[\"fundingRateTimestamp\"], unit=\"ms\")\n",
    "            df = df.sort_values('datetime')\n",
    "\n",
    "            res_df = pd.concat([res_df, df])\n",
    "        except:\n",
    "            pass\n",
    "    \n",
    "    res_df.to_csv(f\"Bybit_{coin}_funding_rate.csv\")"
   ]
  },
  {
   "cell_type": "markdown",
   "id": "b55af83d",
   "metadata": {},
   "source": [
    "<hr>"
   ]
  },
  {
   "cell_type": "markdown",
   "id": "85f37178",
   "metadata": {},
   "source": [
    "## Open Interest"
   ]
  },
  {
   "cell_type": "code",
   "execution_count": 5,
   "id": "b31c19e2",
   "metadata": {},
   "outputs": [
    {
     "name": "stderr",
     "output_type": "stream",
     "text": [
      "100%|███████████████████████████████████████| 1156/1156 [02:26<00:00,  7.87it/s]\n",
      "100%|███████████████████████████████████████| 1156/1156 [02:15<00:00,  8.52it/s]\n",
      "100%|███████████████████████████████████████| 1156/1156 [02:15<00:00,  8.56it/s]\n",
      "100%|███████████████████████████████████████| 1156/1156 [02:16<00:00,  8.46it/s]\n",
      "100%|███████████████████████████████████████| 1156/1156 [02:15<00:00,  8.50it/s]\n",
      "100%|███████████████████████████████████████| 1156/1156 [03:15<00:00,  5.92it/s]\n",
      "100%|███████████████████████████████████████| 1156/1156 [02:15<00:00,  8.51it/s]\n",
      "100%|███████████████████████████████████████| 1156/1156 [02:08<00:00,  9.02it/s]\n",
      "100%|███████████████████████████████████████| 1156/1156 [02:08<00:00,  9.01it/s]\n",
      "100%|███████████████████████████████████████| 1156/1156 [02:17<00:00,  8.42it/s]\n",
      "100%|███████████████████████████████████████| 1156/1156 [02:26<00:00,  7.91it/s]\n",
      "100%|███████████████████████████████████████| 1156/1156 [02:30<00:00,  7.69it/s]\n",
      "100%|███████████████████████████████████████| 1156/1156 [02:16<00:00,  8.48it/s]\n"
     ]
    }
   ],
   "source": [
    "startDT=datetime(2021, 1, 1, 0, 0, 0)\n",
    "endDT=datetime(2024, 3, 1, 0, 0, 0)\n",
    "date_range = pd.date_range(startDT, endDT, freq=\"1d\")\n",
    "\n",
    "url = \"https://api-testnet.bybit.com/v5/market/open-interest\"\n",
    "\n",
    "open_interest = {}\n",
    "\n",
    "for coin in BASKET:\n",
    "    \n",
    "    res_df = pd.DataFrame()\n",
    "    for d in tqdm(date_range):\n",
    "        \n",
    "        try:\n",
    "            startTime = int(d.timestamp()) * 1000\n",
    "            endTime=int((d + pd.offsets.DateOffset(1)).timestamp()) * 1000\n",
    "\n",
    "            payload = {\n",
    "                \"category\": \"inverse\",\n",
    "                \"symbol\": f\"{coin}USDT\",\n",
    "                \"intervalTime\": \"15min\",\n",
    "                \"startTime\": startTime,\n",
    "                \"endTime\": endTime,\n",
    "            }\n",
    "\n",
    "            response = requests.request(\n",
    "                \"GET\",\n",
    "                url,\n",
    "                params=payload,\n",
    "            )\n",
    "\n",
    "            data = json.loads(response.text)\n",
    "\n",
    "            df = pd.DataFrame(data[\"result\"][\"list\"])\n",
    "            df[\"datetime\"] = pd.to_datetime(df[\"timestamp\"], unit=\"ms\")\n",
    "            df = df.sort_values('datetime')\n",
    "\n",
    "            res_df = pd.concat([res_df, df])\n",
    "        except:\n",
    "            pass\n",
    "    \n",
    "    res_df.to_csv(f\"Bybit_{coin}_open_interest.csv\")"
   ]
  }
 ],
 "metadata": {
  "kernelspec": {
   "display_name": "Python 3 (ipykernel)",
   "language": "python",
   "name": "python3"
  },
  "language_info": {
   "codemirror_mode": {
    "name": "ipython",
    "version": 3
   },
   "file_extension": ".py",
   "mimetype": "text/x-python",
   "name": "python",
   "nbconvert_exporter": "python",
   "pygments_lexer": "ipython3",
   "version": "3.10.9"
  }
 },
 "nbformat": 4,
 "nbformat_minor": 5
}
